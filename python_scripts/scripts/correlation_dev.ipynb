{
 "cells": [
  {
   "cell_type": "code",
   "execution_count": 1,
   "id": "4d3c525e-d5bb-4f53-b03a-7088978b00eb",
   "metadata": {},
   "outputs": [],
   "source": [
    "import os, yaml, sys\n",
    "import numpy as np\n",
    "import matplotlib.pyplot as plt\n",
    "import time\n",
    "import math\n",
    "from numba import njit\n",
    "import warnings\n",
    "from scipy.stats import zscore\n",
    "ENV = os.getenv(\"MY_ENV\", \"dev\")\n",
    "with open(\"../../config.yaml\", \"r\") as f:\n",
    "    config = yaml.safe_load(f)\n",
    "paths = config[ENV][\"paths\"]\n",
    "sys.path.append(paths[\"src_path\"])"
   ]
  },
  {
   "cell_type": "code",
   "execution_count": 2,
   "id": "97f8f257-e330-4497-839b-1d42b51f5fe9",
   "metadata": {},
   "outputs": [
    {
     "name": "stderr",
     "output_type": "stream",
     "text": [
      "/Users/tizianocausin/Desktop/virtual_envs/temporal_context/lib/python3.12/site-packages/numba/core/decorators.py:248: RuntimeWarning: nopython is set for njit and is ignored\n",
      "  warnings.warn('nopython is set for njit and is ignored', RuntimeWarning)\n"
     ]
    }
   ],
   "source": [
    "@njit(nopython=True)\n",
    "def mean(x):\n",
    "    n = x.shape[0]\n",
    "    tot = 0\n",
    "    for i in x:\n",
    "        tot+=i\n",
    "    m = tot/n\n",
    "    return m\n",
    "\n",
    "def arr_mean(x, axis=0):\n",
    "    if axis == 0:\n",
    "        rows, cols = x.shape\n",
    "        for \n"
   ]
  },
  {
   "cell_type": "code",
   "execution_count": 3,
   "id": "2eb36473-b630-42b6-89eb-a95fdba8e86d",
   "metadata": {},
   "outputs": [
    {
     "name": "stdout",
     "output_type": "stream",
     "text": [
      "0.00022983551025390625\n",
      "0.1858203411102295\n"
     ]
    }
   ],
   "source": [
    "n = 10\n",
    "xx = np.random.randn(n)\n",
    "st = time.time()\n",
    "xx.mean()\n",
    "end = time.time()\n",
    "print(end-st)\n",
    "st = time.time()\n",
    "mean(xx)\n",
    "end = time.time()\n",
    "print(end-st)"
   ]
  },
  {
   "cell_type": "code",
   "execution_count": 4,
   "id": "f0843d5f-49b9-4c71-90bc-3c0b4851deb5",
   "metadata": {},
   "outputs": [
    {
     "name": "stderr",
     "output_type": "stream",
     "text": [
      "/Users/tizianocausin/Desktop/virtual_envs/temporal_context/lib/python3.12/site-packages/numba/core/decorators.py:248: RuntimeWarning: nopython is set for njit and is ignored\n",
      "  warnings.warn('nopython is set for njit and is ignored', RuntimeWarning)\n"
     ]
    }
   ],
   "source": [
    "@njit(nopython=True)\n",
    "def std(x):\n",
    "    n = x.shape[0]\n",
    "    m_x2 = mean(x**2) # E[x^2]\n",
    "    m2_x = mean(x)**2 # E[x]^2\n",
    "    s = math.sqrt(m_x2 - m2_x)\n",
    "    return s"
   ]
  },
  {
   "cell_type": "code",
   "execution_count": 5,
   "id": "07e7a23f-199f-4e4f-8b69-1c64a30e4b7f",
   "metadata": {},
   "outputs": [
    {
     "name": "stdout",
     "output_type": "stream",
     "text": [
      "8.7738037109375e-05\n",
      "0.1584031581878662\n"
     ]
    }
   ],
   "source": [
    "n = 10\n",
    "xx = np.random.randn(n)\n",
    "st = time.time()\n",
    "xx.std()\n",
    "end = time.time()\n",
    "print(end-st)\n",
    "st = time.time()\n",
    "std(xx)\n",
    "end = time.time()\n",
    "print(end-st)"
   ]
  },
  {
   "cell_type": "code",
   "execution_count": 6,
   "id": "78c60f7d-58fa-47b6-bc89-5bb9457aa8d0",
   "metadata": {},
   "outputs": [
    {
     "name": "stdout",
     "output_type": "stream",
     "text": [
      "0.0277395478221452\n",
      "0.8438171791031734\n"
     ]
    }
   ],
   "source": [
    "m2_x = mean(xx)**2 # E[x]^2\n",
    "m_x2 = mean(xx**2)\n",
    "print(m2_x)\n",
    "print(m_x2)"
   ]
  },
  {
   "cell_type": "code",
   "execution_count": 7,
   "id": "4d0b8326-c75f-45a5-86aa-35fe5d11ad0e",
   "metadata": {},
   "outputs": [
    {
     "name": "stderr",
     "output_type": "stream",
     "text": [
      "/Users/tizianocausin/Desktop/virtual_envs/temporal_context/lib/python3.12/site-packages/numba/core/decorators.py:248: RuntimeWarning: nopython is set for njit and is ignored\n",
      "  warnings.warn('nopython is set for njit and is ignored', RuntimeWarning)\n"
     ]
    }
   ],
   "source": [
    "@njit(nopython=True)\n",
    "def z_score(x):\n",
    "    n = x.shape\n",
    "    m = mean(x)\n",
    "    s = std(x)\n",
    "    x_z = np.zeros(n)\n",
    "    for i, val in enumerate(x):\n",
    "        val = (val - m)/s\n",
    "        x_z[i] = val\n",
    "    return x_z"
   ]
  },
  {
   "cell_type": "code",
   "execution_count": 8,
   "id": "2166cdb1-5957-442d-8066-2ebc97873645",
   "metadata": {},
   "outputs": [
    {
     "name": "stdout",
     "output_type": "stream",
     "text": [
      "0.0007259845733642578\n",
      "0.12873601913452148\n"
     ]
    }
   ],
   "source": [
    "n = 10\n",
    "xx = np.random.randn(n)\n",
    "st = time.time()\n",
    "z_sp =zscore(xx)\n",
    "end = time.time()\n",
    "print(end-st)\n",
    "st = time.time()\n",
    "z_me = z_score(xx)\n",
    "end = time.time()\n",
    "print(end-st)"
   ]
  },
  {
   "cell_type": "code",
   "execution_count": 9,
   "id": "7a4eb712-719c-4cfa-aedc-fd2a1b722714",
   "metadata": {},
   "outputs": [],
   "source": [
    "@njit\n",
    "def dot_prod(x1, x2):\n",
    "    n1 = x1.shape[0]\n",
    "    n2 = x2.shape[0]\n",
    "    if n1 != n2:\n",
    "        raise ValueError(\"x1, x2 do not have the same shapes : x1.shape = {n1}, x2.shape = {n2}\")\n",
    "    tot = 0\n",
    "    #return (x1 * x2).sum()\n",
    "    \n",
    "    for el1, el2 in zip(x1, x2):\n",
    "        tot += el1*el2\n",
    "    \n",
    "    return tot\n",
    "    "
   ]
  },
  {
   "cell_type": "code",
   "execution_count": 10,
   "id": "aff1630d-1747-4662-b49b-b799fac69cd0",
   "metadata": {},
   "outputs": [
    {
     "name": "stdout",
     "output_type": "stream",
     "text": [
      "0.0010647773742675781\n",
      "0.06492900848388672\n"
     ]
    }
   ],
   "source": [
    "x1 = np.random.randn(10000)\n",
    "x2 = np.random.randn(10000)\n",
    " \n",
    "st = time.time()\n",
    "np.dot(x1, x2)\n",
    "end = time.time()\n",
    "print(end-st)\n",
    "st = time.time()\n",
    "dot_prod(x1, x2)\n",
    "end = time.time()\n",
    "print(end-st)"
   ]
  },
  {
   "cell_type": "code",
   "execution_count": 11,
   "id": "ade6c96d-c999-431f-a0d5-00199cc90ccc",
   "metadata": {},
   "outputs": [],
   "source": [
    "@njit\n",
    "def correlation(x1, x2):\n",
    "    n = x1.shape[0]\n",
    "    z_x1 = z_score(x1)\n",
    "    z_x2 = z_score(x2)\n",
    "    r = dot_prod(z_x1, z_x2)/n\n",
    "    return r"
   ]
  },
  {
   "cell_type": "code",
   "execution_count": 12,
   "id": "4d420702-e1b2-4730-8340-60b723fa1ee2",
   "metadata": {},
   "outputs": [
    {
     "name": "stdout",
     "output_type": "stream",
     "text": [
      "0.001100778579711914\n",
      "0.09151983261108398\n",
      "[[1.         0.01420742]\n",
      " [0.01420742 1.        ]] 0.014207421117526289\n"
     ]
    }
   ],
   "source": [
    "x1 = np.random.randn(10000)\n",
    "x2 = np.random.randn(10000)\n",
    " \n",
    "st = time.time()\n",
    "r_np = np.corrcoef(x1, x2)\n",
    "end = time.time()\n",
    "print(end-st)\n",
    "st = time.time()\n",
    "r = correlation(x1, x2)\n",
    "end = time.time()\n",
    "print(end-st)\n",
    "print(r_np, r)"
   ]
  },
  {
   "cell_type": "code",
   "execution_count": 13,
   "id": "b33e6798-aa32-4f2b-997f-9d0697c5a6bd",
   "metadata": {},
   "outputs": [
    {
     "name": "stdout",
     "output_type": "stream",
     "text": [
      "78.0\n"
     ]
    }
   ],
   "source": [
    "cols1 = 13\n",
    "print((cols1**2 - cols1)/2)"
   ]
  },
  {
   "cell_type": "code",
   "execution_count": 110,
   "id": "1e0709b2-cd5b-4354-8b27-03cd2337263f",
   "metadata": {},
   "outputs": [],
   "source": [
    "@njit\n",
    "def compute_corr_mat(x1, x2 = None): # it doesn't scale well :(\n",
    "    rows1, cols1 = x1.shape\n",
    "    if x2 is None:\n",
    "        counter = 0\n",
    "        tot_size = (cols1**2 - cols1)//2 # the number of elements in the upper triangular off-diag is (n^2 - n)/2\n",
    "        corr_mat = np.zeros(tot_size)\n",
    "        for icol in range(cols1):\n",
    "            el1 = x1[:, icol]\n",
    "            for jcol in range(icol):\n",
    "                el2 = x1[:, jcol]\n",
    "                r = correlation(el1, el2) # next make it ok for other kernels too\n",
    "                corr_mat[counter] = r\n",
    "                counter += 1\n",
    "            # for jcol in range(icol-1):\n",
    "        # for icol in range(cols1):\n",
    "    else: \n",
    "        rows2, cols2 = x2.shape\n",
    "        counter = 0\n",
    "        tot_size = cols1*cols2  # the number of elements in the upper triangular off-diag is (n^2 - n)/2\n",
    "        corr_mat = np.zeros(tot_size)\n",
    "        #for icol in range(cols1):\n",
    "        for col1 in x1:\n",
    "            #el1 = x1[:, icol]\n",
    "            #for jcol in range(cols2):\n",
    "            for col2 in x2:\n",
    "                #el2 = x2[:, jcol]\n",
    "                #r = correlation(el1, el2) # next make it ok for other kernels too\n",
    "                r = correlation(col1, col2) # next make it ok for other kernels too\n",
    "                corr_mat[counter] = r\n",
    "                counter += 1\n",
    "            # for jcol in range(cols2):\n",
    "        # for icol in range(cols1):\n",
    "    return corr_mat"
   ]
  },
  {
   "cell_type": "code",
   "execution_count": 99,
   "id": "6ad2cf4c-35e1-493f-81cb-bd7af4422f1c",
   "metadata": {},
   "outputs": [],
   "source": [
    "@njit\n",
    "def corr(x1):\n",
    "    X = x1 - x1.mean(axis=0)\n",
    "    cov = X.T @ X / (X.shape[0] - 1)\n",
    "    stds = X.std(axis=0, ddof=1)\n",
    "    corr_mat = cov / (stds[:, None] * stds[None, :])\n",
    "    return corr_mat"
   ]
  },
  {
   "cell_type": "code",
   "execution_count": 100,
   "id": "de68dca7-cdf8-4bd0-a58c-a8c99bc6717f",
   "metadata": {},
   "outputs": [
    {
     "ename": "TypingError",
     "evalue": "Failed in nopython mode pipeline (step: nopython frontend)\n- Resolution failure for literal arguments:\nNo implementation of function Function(<function array_mean at 0x120e6f920>) found for signature:\n\n >>> array_mean(array(float64, 2d, C), axis=Literal[int](0))\n\nThere are 2 candidate implementations:\n    - Of which 2 did not match due to:\n    Overload in function 'array_mean': File: numba/np/arraymath.py: Line 425.\n      With argument(s): '(array(float64, 2d, C), axis=int64)':\n     Rejected as the implementation raised a specific error:\n       TypingError: got an unexpected keyword argument 'axis'\n  raised from /Users/tizianocausin/Desktop/virtual_envs/temporal_context/lib/python3.12/site-packages/numba/core/typing/templates.py:791\n\n- Resolution failure for non-literal arguments:\nNo implementation of function Function(<function array_mean at 0x120e6f920>) found for signature:\n\n >>> array_mean(array(float64, 2d, C), axis=int64)\n\nThere are 2 candidate implementations:\n   - Of which 2 did not match due to:\n   Overload in function 'array_mean': File: numba/np/arraymath.py: Line 425.\n     With argument(s): '(array(float64, 2d, C), axis=int64)':\n    Rejected as the implementation raised a specific error:\n      TypingError: got an unexpected keyword argument 'axis'\n  raised from /Users/tizianocausin/Desktop/virtual_envs/temporal_context/lib/python3.12/site-packages/numba/core/typing/templates.py:791\n\n\nDuring: resolving callee type: BoundFunction((<class 'numba.core.types.npytypes.Array'>, 'mean') for array(float64, 2d, C))\nDuring: typing of call at /var/folders/nw/yf48zdjj1m5012281wx_pzhc0000gn/T/ipykernel_66028/2816130749.py (3)\n\nFile \"../../../../../../var/folders/nw/yf48zdjj1m5012281wx_pzhc0000gn/T/ipykernel_66028/2816130749.py\", line 3:\n<source missing, REPL/exec in use?>\n\nDuring: Pass nopython_type_inference",
     "output_type": "error",
     "traceback": [
      "\u001b[31m---------------------------------------------------------------------------\u001b[39m",
      "\u001b[31mTypingError\u001b[39m                               Traceback (most recent call last)",
      "\u001b[36mCell\u001b[39m\u001b[36m \u001b[39m\u001b[32mIn[100]\u001b[39m\u001b[32m, line 4\u001b[39m\n\u001b[32m      2\u001b[39m x2 = np.random.randn(\u001b[32m200\u001b[39m, \u001b[32m200\u001b[39m)\n\u001b[32m      3\u001b[39m st = time.time()\n\u001b[32m----> \u001b[39m\u001b[32m4\u001b[39m \u001b[43mcorr\u001b[49m\u001b[43m(\u001b[49m\u001b[43mx\u001b[49m\u001b[43m)\u001b[49m\n\u001b[32m      5\u001b[39m end = time.time()\n\u001b[32m      6\u001b[39m \u001b[38;5;28mprint\u001b[39m(end-st)\n",
      "\u001b[36mFile \u001b[39m\u001b[32m~/Desktop/virtual_envs/temporal_context/lib/python3.12/site-packages/numba/core/dispatcher.py:424\u001b[39m, in \u001b[36m_DispatcherBase._compile_for_args\u001b[39m\u001b[34m(self, *args, **kws)\u001b[39m\n\u001b[32m    420\u001b[39m         msg = (\u001b[33mf\u001b[39m\u001b[33m\"\u001b[39m\u001b[38;5;132;01m{\u001b[39;00m\u001b[38;5;28mstr\u001b[39m(e).rstrip()\u001b[38;5;132;01m}\u001b[39;00m\u001b[33m \u001b[39m\u001b[38;5;130;01m\\n\u001b[39;00m\u001b[38;5;130;01m\\n\u001b[39;00m\u001b[33mThis error may have been caused \u001b[39m\u001b[33m\"\u001b[39m\n\u001b[32m    421\u001b[39m                \u001b[33mf\u001b[39m\u001b[33m\"\u001b[39m\u001b[33mby the following argument(s):\u001b[39m\u001b[38;5;130;01m\\n\u001b[39;00m\u001b[38;5;132;01m{\u001b[39;00margs_str\u001b[38;5;132;01m}\u001b[39;00m\u001b[38;5;130;01m\\n\u001b[39;00m\u001b[33m\"\u001b[39m)\n\u001b[32m    422\u001b[39m         e.patch_message(msg)\n\u001b[32m--> \u001b[39m\u001b[32m424\u001b[39m     \u001b[43merror_rewrite\u001b[49m\u001b[43m(\u001b[49m\u001b[43me\u001b[49m\u001b[43m,\u001b[49m\u001b[43m \u001b[49m\u001b[33;43m'\u001b[39;49m\u001b[33;43mtyping\u001b[39;49m\u001b[33;43m'\u001b[39;49m\u001b[43m)\u001b[49m\n\u001b[32m    425\u001b[39m \u001b[38;5;28;01mexcept\u001b[39;00m errors.UnsupportedError \u001b[38;5;28;01mas\u001b[39;00m e:\n\u001b[32m    426\u001b[39m     \u001b[38;5;66;03m# Something unsupported is present in the user code, add help info\u001b[39;00m\n\u001b[32m    427\u001b[39m     error_rewrite(e, \u001b[33m'\u001b[39m\u001b[33munsupported_error\u001b[39m\u001b[33m'\u001b[39m)\n",
      "\u001b[36mFile \u001b[39m\u001b[32m~/Desktop/virtual_envs/temporal_context/lib/python3.12/site-packages/numba/core/dispatcher.py:365\u001b[39m, in \u001b[36m_DispatcherBase._compile_for_args.<locals>.error_rewrite\u001b[39m\u001b[34m(e, issue_type)\u001b[39m\n\u001b[32m    363\u001b[39m     \u001b[38;5;28;01mraise\u001b[39;00m e\n\u001b[32m    364\u001b[39m \u001b[38;5;28;01melse\u001b[39;00m:\n\u001b[32m--> \u001b[39m\u001b[32m365\u001b[39m     \u001b[38;5;28;01mraise\u001b[39;00m e.with_traceback(\u001b[38;5;28;01mNone\u001b[39;00m)\n",
      "\u001b[31mTypingError\u001b[39m: Failed in nopython mode pipeline (step: nopython frontend)\n- Resolution failure for literal arguments:\nNo implementation of function Function(<function array_mean at 0x120e6f920>) found for signature:\n\n >>> array_mean(array(float64, 2d, C), axis=Literal[int](0))\n\nThere are 2 candidate implementations:\n    - Of which 2 did not match due to:\n    Overload in function 'array_mean': File: numba/np/arraymath.py: Line 425.\n      With argument(s): '(array(float64, 2d, C), axis=int64)':\n     Rejected as the implementation raised a specific error:\n       TypingError: got an unexpected keyword argument 'axis'\n  raised from /Users/tizianocausin/Desktop/virtual_envs/temporal_context/lib/python3.12/site-packages/numba/core/typing/templates.py:791\n\n- Resolution failure for non-literal arguments:\nNo implementation of function Function(<function array_mean at 0x120e6f920>) found for signature:\n\n >>> array_mean(array(float64, 2d, C), axis=int64)\n\nThere are 2 candidate implementations:\n   - Of which 2 did not match due to:\n   Overload in function 'array_mean': File: numba/np/arraymath.py: Line 425.\n     With argument(s): '(array(float64, 2d, C), axis=int64)':\n    Rejected as the implementation raised a specific error:\n      TypingError: got an unexpected keyword argument 'axis'\n  raised from /Users/tizianocausin/Desktop/virtual_envs/temporal_context/lib/python3.12/site-packages/numba/core/typing/templates.py:791\n\n\nDuring: resolving callee type: BoundFunction((<class 'numba.core.types.npytypes.Array'>, 'mean') for array(float64, 2d, C))\nDuring: typing of call at /var/folders/nw/yf48zdjj1m5012281wx_pzhc0000gn/T/ipykernel_66028/2816130749.py (3)\n\nFile \"../../../../../../var/folders/nw/yf48zdjj1m5012281wx_pzhc0000gn/T/ipykernel_66028/2816130749.py\", line 3:\n<source missing, REPL/exec in use?>\n\nDuring: Pass nopython_type_inference"
     ]
    }
   ],
   "source": [
    "x = np.random.randn(200, 200)\n",
    "x2 = np.random.randn(200, 200)\n",
    "st = time.time()\n",
    "corr(x)\n",
    "end = time.time()\n",
    "print(end-st)\n",
    "x = x.T\n",
    "st = time.time()\n",
    "np.corrcoef(x,x2)\n",
    "end = time.time()\n",
    "print(end-st)"
   ]
  },
  {
   "cell_type": "code",
   "execution_count": 117,
   "id": "4e81a440-c29b-46ee-9712-d85356f8735f",
   "metadata": {},
   "outputs": [
    {
     "name": "stdout",
     "output_type": "stream",
     "text": [
      "0.09276580810546875\n",
      "0.0010039806365966797\n"
     ]
    }
   ],
   "source": [
    "x = np.random.randn(200, 200)\n",
    "x2 = np.random.randn(200, 200)\n",
    "st = time.time()\n",
    "compute_corr_mat(x,x2)\n",
    "end = time.time()\n",
    "print(end-st)\n",
    "x = x.T\n",
    "st = time.time()\n",
    "np.corrcoef(x,x2)\n",
    "end = time.time()\n",
    "print(end-st)"
   ]
  }
 ],
 "metadata": {
  "kernelspec": {
   "display_name": "temporal_context",
   "language": "python",
   "name": "temporal_context"
  },
  "language_info": {
   "codemirror_mode": {
    "name": "ipython",
    "version": 3
   },
   "file_extension": ".py",
   "mimetype": "text/x-python",
   "name": "python",
   "nbconvert_exporter": "python",
   "pygments_lexer": "ipython3",
   "version": "3.12.4"
  }
 },
 "nbformat": 4,
 "nbformat_minor": 5
}
