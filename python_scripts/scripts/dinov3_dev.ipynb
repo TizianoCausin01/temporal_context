{
 "cells": [
  {
   "cell_type": "code",
   "execution_count": null,
   "id": "6c3a4469-b031-494c-9606-af003ea69423",
   "metadata": {},
   "outputs": [],
   "source": [
    "import os\n",
    "from huggingface_hub import login\n",
    "token = os.getenv(\"GITHUB_TOKEN\")\n",
    "login(token=token)"
   ]
  },
  {
   "cell_type": "code",
   "execution_count": null,
   "id": "51b77990-5c13-40f9-a5ba-31be801cfee2",
   "metadata": {},
   "outputs": [],
   "source": [
    "import os, yaml, sys\n",
    "import torch\n",
    "from transformers import pipeline\n",
    "from transformers import logging\n",
    "logging.set_verbosity_error()\n",
    "from huggingface_hub import login\n",
    "token = os.getenv(\"GITHUB_TOKEN\")\n",
    "login(token=token)\n",
    "pipe = pipeline(\n",
    "    task=\"image-feature-extraction\",\n",
    "    model=\"facebook/dinov3-vits16-pretrain-lvd1689m\",\n",
    "    dtype=torch.bfloat16,\n",
    ")\n",
    "\n",
    "f = pipe(\"https://huggingface.co/datasets/huggingface/documentation-images/resolve/main/pipeline-cat-chonk.jpeg\")"
   ]
  },
  {
   "cell_type": "code",
   "execution_count": null,
   "id": "cfad5053-a0f8-4677-b9b0-cb6b02938dfa",
   "metadata": {},
   "outputs": [],
   "source": [
    "import torch\n",
    "from transformers import AutoImageProcessor, AutoModel\n",
    "from transformers.image_utils import load_image\n",
    "import accelerate\n",
    "url = \"http://images.cocodataset.org/val2017/000000039769.jpg\"\n",
    "image = load_image(url)\n",
    "\n",
    "processor = AutoImageProcessor.from_pretrained(\"facebook/dinov3-vits16-pretrain-lvd1689m\")\n",
    "model = AutoModel.from_pretrained(\n",
    "    \"facebook/dinov3-vits16-pretrain-lvd1689m\",\n",
    "    dtype=torch.float16,\n",
    "    device_map=\"auto\",\n",
    "    attn_implementation=\"sdpa\"\n",
    ")\n",
    "\n",
    "inputs = processor(images=image, return_tensors=\"pt\").to(model.device)\n",
    "with torch.inference_mode():\n",
    "    outputs = model(**inputs)\n",
    "\n",
    "pooled_output = outputs.pooler_output\n",
    "print(\"Pooled output shape:\", pooled_output.shape)"
   ]
  }
 ],
 "metadata": {
  "kernelspec": {
   "display_name": "temporal_context",
   "language": "python",
   "name": "temporal_context"
  },
  "language_info": {
   "codemirror_mode": {
    "name": "ipython",
    "version": 3
   },
   "file_extension": ".py",
   "mimetype": "text/x-python",
   "name": "python",
   "nbconvert_exporter": "python",
   "pygments_lexer": "ipython3",
   "version": "3.12.4"
  }
 },
 "nbformat": 4,
 "nbformat_minor": 5
}
